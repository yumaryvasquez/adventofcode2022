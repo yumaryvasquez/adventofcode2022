{
 "cells": [
  {
   "cell_type": "markdown",
   "id": "7364e763",
   "metadata": {},
   "source": [
    "### Day 7\n",
    "#### Part 1"
   ]
  },
  {
   "cell_type": "code",
   "execution_count": 1,
   "id": "8568071e",
   "metadata": {},
   "outputs": [],
   "source": [
    "file = open(\"input.txt\",\"r\").read().splitlines()"
   ]
  },
  {
   "cell_type": "code",
   "execution_count": 2,
   "id": "f3e29d43",
   "metadata": {},
   "outputs": [],
   "source": [
    "lists = []\n",
    "lists = [[val] for val in file] \n",
    "y = [sublist[0].split() for sublist in lists]"
   ]
  },
  {
   "cell_type": "code",
   "execution_count": 53,
   "id": "9bc0050a",
   "metadata": {},
   "outputs": [
    {
     "data": {
      "text/plain": [
       "1390824"
      ]
     },
     "execution_count": 53,
     "metadata": {},
     "output_type": "execute_result"
    }
   ],
   "source": [
    "directory_dict = {}\n",
    "directory_path = []\n",
    "total_size = 0\n",
    "\n",
    "for command in y:\n",
    "    if (command[0].startswith('$')) & (command[1].startswith('cd')):\n",
    "        dire = command[-1]\n",
    "        if dire == \"/\": \n",
    "            directory_path = ['/']\n",
    "        elif dire == \"..\": \n",
    "            directory_path.pop()\n",
    "        else: \n",
    "            directory_path.append(dire)\n",
    "    elif command[0].isdigit():\n",
    "        for i in range(len(directory_path)):\n",
    "            dires = '/' + '/'.join(directory_path[1:i+1])\n",
    "            directory_dict.setdefault(dires,0)\n",
    "            filesize = int(command[0])\n",
    "            directory_dict[dires] += filesize\n",
    "        \n",
    "\n",
    "for s in directory_dict.values():\n",
    "    if s <= 100000:\n",
    "        total_size += s     \n",
    "        \n",
    "total_size    \n",
    "\n",
    "# this one stumped me, I had to get help from the reddit page to figure out how to solve this one"
   ]
  },
  {
   "cell_type": "code",
   "execution_count": 69,
   "id": "35c5e0d8",
   "metadata": {},
   "outputs": [],
   "source": [
    "#### Part 2\n",
    "\n",
    "\n",
    "d = dict((k, v) for k, v in directory_dict.items() if v > 30000000 - (70000000 - directory_dict[\"/\"]))"
   ]
  },
  {
   "cell_type": "code",
   "execution_count": 72,
   "id": "61ebc0f1",
   "metadata": {},
   "outputs": [
    {
     "data": {
      "text/plain": [
       "[7490863, 7951177, 10862928, 13880430, 32283214, 46728267]"
      ]
     },
     "execution_count": 72,
     "metadata": {},
     "output_type": "execute_result"
    }
   ],
   "source": [
    "sorted(d.values())"
   ]
  }
 ],
 "metadata": {
  "kernelspec": {
   "display_name": "Python 3 (ipykernel)",
   "language": "python",
   "name": "python3"
  },
  "language_info": {
   "codemirror_mode": {
    "name": "ipython",
    "version": 3
   },
   "file_extension": ".py",
   "mimetype": "text/x-python",
   "name": "python",
   "nbconvert_exporter": "python",
   "pygments_lexer": "ipython3",
   "version": "3.10.2"
  }
 },
 "nbformat": 4,
 "nbformat_minor": 5
}
