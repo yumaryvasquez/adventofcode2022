{
 "cells": [
  {
   "cell_type": "markdown",
   "id": "618b9670",
   "metadata": {},
   "source": [
    "# Advent of Code 2022 \n",
    "## Day 1"
   ]
  },
  {
   "cell_type": "markdown",
   "id": "a79f5c54",
   "metadata": {},
   "source": [
    "#### Part 1"
   ]
  },
  {
   "cell_type": "code",
   "execution_count": 124,
   "id": "1695abb3",
   "metadata": {},
   "outputs": [
    {
     "data": {
      "text/plain": [
       "68442"
      ]
     },
     "execution_count": 124,
     "metadata": {},
     "output_type": "execute_result"
    }
   ],
   "source": [
    "#open file and read in lines\n",
    "with open('input_calories.txt') as f:\n",
    "    lines = f.read().strip.split('\\n\\n')\n",
    "c\n",
    "    \n"
   ]
  },
  {
   "cell_type": "markdown",
   "id": "01f4f4ab",
   "metadata": {},
   "source": [
    "#### Part 2"
   ]
  },
  {
   "cell_type": "code",
   "execution_count": 125,
   "id": "e27f0e8b",
   "metadata": {},
   "outputs": [],
   "source": [
    "#start time 10:10 pm \n",
    "\n",
    "#take the largest number & then remove it from list\n",
    "largest_num = max(summed_list)\n",
    "summed_list.remove(largest_num)\n",
    "\n",
    "#take the largest number & then remove it from list\n",
    "second_largest = max(summed_list)\n",
    "summed_list.remove(second_largest)\n",
    "\n",
    "#take the largest number & then remove it from list\n",
    "third_largest = max(summed_list)\n",
    "summed_list.remove(third_largest)\n",
    "\n",
    "#add the largest three numbers and then print\n",
    "top_three = (largest_num + second_largest + third_largest)\n",
    "print(top_three)\n",
    "\n",
    "#end time 10:18\n",
    "\n",
    "#I got kind of tired here so instead of doing a loop, \n",
    "#     I did a simple store and remove from list. \n",
    "#     In theory, this would be better if values were given \n",
    "#     along with the N elements to sum up "
   ]
  },
  {
   "cell_type": "code",
   "execution_count": null,
   "id": "a61bba53",
   "metadata": {},
   "outputs": [],
   "source": []
  }
 ],
 "metadata": {
  "kernelspec": {
   "display_name": "Python 3 (ipykernel)",
   "language": "python",
   "name": "python3"
  },
  "language_info": {
   "codemirror_mode": {
    "name": "ipython",
    "version": 3
   },
   "file_extension": ".py",
   "mimetype": "text/x-python",
   "name": "python",
   "nbconvert_exporter": "python",
   "pygments_lexer": "ipython3",
   "version": "3.10.2"
  }
 },
 "nbformat": 4,
 "nbformat_minor": 5
}
