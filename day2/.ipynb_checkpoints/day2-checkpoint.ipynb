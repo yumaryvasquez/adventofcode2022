{
 "cells": [
  {
   "cell_type": "markdown",
   "id": "b43015d0",
   "metadata": {},
   "source": [
    "### Day 2\n",
    "\n",
    "#### Part 1"
   ]
  },
  {
   "cell_type": "code",
   "execution_count": 75,
   "id": "e0ca741b",
   "metadata": {},
   "outputs": [
    {
     "data": {
      "text/plain": [
       "15691"
      ]
     },
     "execution_count": 75,
     "metadata": {},
     "output_type": "execute_result"
    }
   ],
   "source": [
    "#start time 9:00 pm\n",
    "\n",
    "#A for Rock, B for Paper, and C for Scissors\n",
    "#X for Rock, Y for Paper, and Z for Scissors\n",
    "#1 for Rock, 2 for Paper, and 3 for Scissors\n",
    "#0 if you lost, 3 if the round was a draw, and 6 if you won\n",
    "\n",
    "\n",
    "\n",
    "file = open(\"input_strategy.txt\", \"r\")\n",
    "strategy = file.read().strip()\n",
    "new_list = strategy.split(\"\\n\")\n",
    "\n",
    "\n",
    "#for each line, calculate lost, draw or win\n",
    "score = 0\n",
    "for line in new_list:\n",
    "    if (line[0] == \"A\") & (line[2] == \"X\"):\n",
    "        score += 3\n",
    "    if (line[0] == \"A\") & (line[2] == \"Y\"):\n",
    "        score += 6\n",
    "    if (line[0] == \"A\") & (line[2] == \"Z\"):\n",
    "        score += 0\n",
    "    if (line[0] == \"B\") & (line[2] == \"Y\"):\n",
    "        score += 3\n",
    "    if (line[0] == \"B\") & (line[2] == \"Z\"):\n",
    "        score += 6\n",
    "    if (line[0] == \"B\") & (line[2] == \"X\"):\n",
    "        score += 0\n",
    "    if (line[0] == \"C\") & (line[2] == \"Z\"):\n",
    "        score += 3\n",
    "    if (line[0] == \"C\") & (line[2] == \"X\"):\n",
    "        score += 6\n",
    "    if (line[0] == \"C\") & (line[2] == \"Y\"):\n",
    "        score += 0\n",
    "game_score = score\n",
    "\n",
    "\n",
    "#also calculate the number of points for the strategy chosen\n",
    "occurrences_X = strategy.count(\"X\")\n",
    "occurrences_Y = strategy.count(\"Y\")\n",
    "occurrences_Z = strategy.count(\"Z\")\n",
    "shape_score = occurrences_X + (occurrences_Y*2) + (occurrences_Z*3)\n",
    "\n",
    "\n",
    "final_score = game_score + shape_score\n",
    "final_score\n",
    "\n",
    "#finish at 9:29pm "
   ]
  },
  {
   "cell_type": "markdown",
   "id": "beb9771f",
   "metadata": {},
   "source": [
    "#### Part 2"
   ]
  },
  {
   "cell_type": "code",
   "execution_count": 77,
   "id": "94707281",
   "metadata": {},
   "outputs": [
    {
     "data": {
      "text/plain": [
       "12989"
      ]
     },
     "execution_count": 77,
     "metadata": {},
     "output_type": "execute_result"
    }
   ],
   "source": [
    "#start time 9:30 pm \n",
    "\n",
    "#X means you need to lose, Y means you need to end the round in a draw, and Z means you need to win.\n",
    "\n",
    "#for each line, calculate lost, draw or win\n",
    "#A for Rock, B for Paper, and C for Scissors\n",
    "#1 for Rock, 2 for Paper, and 3 for Scissors\n",
    "score = 0\n",
    "shape_score = 0\n",
    "for line in new_list:\n",
    "    if (line[0] == \"A\") & (line[2] == \"X\"):\n",
    "        score += 0\n",
    "        shape_score += 3\n",
    "    if (line[0] == \"B\") & (line[2] == \"X\"):\n",
    "        score += 0\n",
    "        shape_score += 1\n",
    "    if (line[0] == \"C\") & (line[2] == \"X\"):\n",
    "        score += 0\n",
    "        shape_score += 2\n",
    "        \n",
    "    if (line[0] == \"A\") & (line[2] == \"Y\"):\n",
    "        score += 3\n",
    "        shape_score += 1\n",
    "    if (line[0] == \"B\") & (line[2] == \"Y\"):\n",
    "        score += 3\n",
    "        shape_score += 2\n",
    "    if (line[0] == \"C\") & (line[2] == \"Y\"):\n",
    "        score += 3\n",
    "        shape_score += 3\n",
    "    \n",
    "    if (line[0] == \"A\") & (line[2] == \"Z\"):\n",
    "        score += 6\n",
    "        shape_score += 2\n",
    "    if (line[0] == \"B\") & (line[2] == \"Z\"):\n",
    "        score += 6\n",
    "        shape_score += 3\n",
    "    if (line[0] == \"C\") & (line[2] == \"Z\"):\n",
    "        score += 6\n",
    "        shape_score += 1\n",
    "game_score = score + shape_score\n",
    "\n",
    "game_score\n",
    "\n",
    "#finish at 9:36pm "
   ]
  },
  {
   "cell_type": "markdown",
   "id": "f97a5857",
   "metadata": {},
   "source": [
    "### This was a pretty brute force code but it still solved the problem. \n",
    "### Will update with a better code sometime later this month?"
   ]
  }
 ],
 "metadata": {
  "kernelspec": {
   "display_name": "Python 3 (ipykernel)",
   "language": "python",
   "name": "python3"
  },
  "language_info": {
   "codemirror_mode": {
    "name": "ipython",
    "version": 3
   },
   "file_extension": ".py",
   "mimetype": "text/x-python",
   "name": "python",
   "nbconvert_exporter": "python",
   "pygments_lexer": "ipython3",
   "version": "3.10.2"
  }
 },
 "nbformat": 4,
 "nbformat_minor": 5
}
