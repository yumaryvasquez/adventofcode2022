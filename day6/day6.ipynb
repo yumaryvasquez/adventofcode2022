{
 "cells": [
  {
   "cell_type": "markdown",
   "id": "a41a0e7b",
   "metadata": {},
   "source": [
    "### Day 6\n",
    "#### Part 1"
   ]
  },
  {
   "cell_type": "code",
   "execution_count": null,
   "id": "1df5a4dd",
   "metadata": {},
   "outputs": [],
   "source": [
    "#not my cleanest code but it gets the job done."
   ]
  },
  {
   "cell_type": "code",
   "execution_count": 48,
   "id": "78f12f9d",
   "metadata": {},
   "outputs": [],
   "source": [
    "device = open(\"input.txt\",\"r\").read().strip()"
   ]
  },
  {
   "cell_type": "code",
   "execution_count": 89,
   "id": "1119039d",
   "metadata": {},
   "outputs": [
    {
     "name": "stdout",
     "output_type": "stream",
     "text": [
      "1794\n"
     ]
    }
   ],
   "source": [
    "count = 4\n",
    "list_four = [device[i:i+4] for i in range(len(device)-2)]\n",
    "\n",
    "\n",
    "temp_num = 0\n",
    "list_temp = []\n",
    "for i in range(len(list_four)):\n",
    "    if len(list_four[i]) == 4:\n",
    "        for j in range(len(list_four[0])):\n",
    "            if list_four[i].count(list_four[i][j]) == 2:\n",
    "                temp_num += 2\n",
    "            elif list_four[i].count(list_four[i][j]) == 1:\n",
    "                temp_num += 1\n",
    "    if temp_num == 4:\n",
    "        list_temp.append(count)\n",
    "    temp_num = 0\n",
    "    count += 1\n",
    "    \n",
    "print(list_temp[0])"
   ]
  },
  {
   "cell_type": "markdown",
   "id": "00996491",
   "metadata": {},
   "source": [
    "#### Part 2"
   ]
  },
  {
   "cell_type": "code",
   "execution_count": 92,
   "id": "00a03d63",
   "metadata": {},
   "outputs": [
    {
     "name": "stdout",
     "output_type": "stream",
     "text": [
      "2851\n"
     ]
    }
   ],
   "source": [
    "count = 14\n",
    "list_fourteen = [device[i:i+14] for i in range(len(device)-2)]\n",
    "\n",
    "\n",
    "temp_num = 0\n",
    "list_temp = []\n",
    "for i in range(len(list_fourteen)):\n",
    "    if len(list_fourteen[i]) == 14:\n",
    "        for j in range(len(list_fourteen[0])):\n",
    "            if list_fourteen[i].count(list_fourteen[i][j]) >= 2:\n",
    "                temp_num += 2\n",
    "            elif list_fourteen[i].count(list_fourteen[i][j]) == 1:\n",
    "                temp_num += 1\n",
    "    if temp_num == 14:\n",
    "        list_temp.append(count)\n",
    "    temp_num = 0\n",
    "    count += 1\n",
    "    \n",
    "print(list_temp[0])"
   ]
  }
 ],
 "metadata": {
  "kernelspec": {
   "display_name": "Python 3 (ipykernel)",
   "language": "python",
   "name": "python3"
  },
  "language_info": {
   "codemirror_mode": {
    "name": "ipython",
    "version": 3
   },
   "file_extension": ".py",
   "mimetype": "text/x-python",
   "name": "python",
   "nbconvert_exporter": "python",
   "pygments_lexer": "ipython3",
   "version": "3.10.2"
  }
 },
 "nbformat": 4,
 "nbformat_minor": 5
}
