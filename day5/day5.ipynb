{
 "cells": [
  {
   "cell_type": "markdown",
   "id": "09c275cf",
   "metadata": {},
   "source": [
    "### Day 5\n",
    "#### Part 1"
   ]
  },
  {
   "cell_type": "code",
   "execution_count": null,
   "id": "67c28d04",
   "metadata": {},
   "outputs": [],
   "source": [
    "# this is a messy code. the input was strange so I initially tried using pandas dataframes to work with.\n",
    "# Halfway through, I realized that this wasnt the best way so I took the dataframe and put it back\n",
    "# into a list. After that, I used some manipulation to get the answer"
   ]
  },
  {
   "cell_type": "code",
   "execution_count": null,
   "id": "240e2111",
   "metadata": {},
   "outputs": [],
   "source": []
  },
  {
   "cell_type": "code",
   "execution_count": 1,
   "id": "d9a38215",
   "metadata": {},
   "outputs": [],
   "source": [
    "import pandas as pd\n",
    "import re\n",
    "import numpy as np"
   ]
  },
  {
   "cell_type": "code",
   "execution_count": 2,
   "id": "6e3554c6",
   "metadata": {},
   "outputs": [],
   "source": [
    "with open(\"input_crates.txt\", 'r') as file:\n",
    "    new_list = [item.strip(\"\\n\") for item in file]"
   ]
  },
  {
   "cell_type": "code",
   "execution_count": 6,
   "id": "6b59a912",
   "metadata": {},
   "outputs": [],
   "source": [
    "headers = []\n",
    "for i in range(len(new_list)):\n",
    "    if new_list[i].startswith(' 1   2'):\n",
    "        headers.append(new_list[i])\n",
    "\n",
    "header_temp = pd.DataFrame(headers)\n",
    "new_header =  header_temp.iloc[0].str.split(expand=True)\n",
    "\n",
    "df = []\n",
    "for i in range(len(new_list)):\n",
    "    if \"[\" in new_list[i]:\n",
    "        repla = re.sub(r\"\\[|\\]\",\" \", new_list[i])\n",
    "        df.append(repla)\n",
    "        \n",
    "df2 = []\n",
    "for i in range(len(df[0])):\n",
    "    df2.append([row[i] for row in df])\n",
    "    \n",
    "\n",
    "test = pd.DataFrame(df2).T\n",
    "nan_value = float(\"NaN\")\n",
    "test.replace(\" \", nan_value, inplace=True)\n",
    "test.dropna(how='all', axis=1, inplace=True)\n",
    "#df_merged = test.append(new_header, ignore_index=True)\n",
    "test.columns = new_header.columns\n",
    "df_merged = pd.concat([test,new_header], axis=0, ignore_index=True)\n",
    "\n",
    "\n",
    "directions = []\n",
    "for i in range(len(new_list)):\n",
    "    if new_list[i].startswith('move'):\n",
    "        directions.append(new_list[i])\n",
    "        \n",
    "new_crate_list = df_merged.values.T.tolist()\n",
    "cleanedList2 = []\n",
    "for line in new_crate_list:\n",
    "    cleanedList2.append([x for x in line if str(x) != \"nan\"])\n",
    "cleanedList = [i[::-1] for i in cleanedList2]"
   ]
  },
  {
   "cell_type": "code",
   "execution_count": 4,
   "id": "9ad62acb",
   "metadata": {},
   "outputs": [],
   "source": [
    "for ele in directions:\n",
    "    ele2 = ele.split()\n",
    "    for i in range(len(cleanedList)):\n",
    "        if (cleanedList[i][0] == ele2[3]):\n",
    "            removal = cleanedList[i][len(cleanedList[i])- int(ele2[1]):]\n",
    "            removal.reverse()\n",
    "            cleanedList[i] = cleanedList[i][:len(cleanedList[i])- int(ele2[1]) or None]\n",
    "            for j in range(len(cleanedList)):\n",
    "                if (cleanedList[j][0] == ele2[5]):\n",
    "                    cleanedList[j].extend(removal)"
   ]
  },
  {
   "cell_type": "code",
   "execution_count": 5,
   "id": "f790e804",
   "metadata": {},
   "outputs": [
    {
     "data": {
      "text/plain": [
       "[['1', 'M', 'V', 'Q', 'F', 'H', 'G', 'T', 'C', 'H', 'F', 'S'],\n",
       " ['2', 'R', 'J', 'B', 'Z', 'P', 'C', 'H'],\n",
       " ['3', 'J', 'R', 'D', 'Z', 'D', 'Q'],\n",
       " ['4', 'W'],\n",
       " ['5', 'J', 'G', 'S'],\n",
       " ['6', 'R'],\n",
       " ['7', 'T', 'B'],\n",
       " ['8',\n",
       "  'B',\n",
       "  'P',\n",
       "  'F',\n",
       "  'R',\n",
       "  'B',\n",
       "  'H',\n",
       "  'H',\n",
       "  'S',\n",
       "  'C',\n",
       "  'H',\n",
       "  'C',\n",
       "  'N',\n",
       "  'Z',\n",
       "  'P',\n",
       "  'G',\n",
       "  'L',\n",
       "  'L',\n",
       "  'R',\n",
       "  'S',\n",
       "  'J',\n",
       "  'T',\n",
       "  'R',\n",
       "  'T',\n",
       "  'D'],\n",
       " ['9', 'L']]"
      ]
     },
     "execution_count": 5,
     "metadata": {},
     "output_type": "execute_result"
    }
   ],
   "source": [
    "cleanedList"
   ]
  },
  {
   "cell_type": "markdown",
   "id": "6053839d",
   "metadata": {},
   "source": [
    "#### Part 2"
   ]
  },
  {
   "cell_type": "code",
   "execution_count": 7,
   "id": "fd5bbe7c",
   "metadata": {},
   "outputs": [],
   "source": [
    "for ele in directions:\n",
    "    ele2 = ele.split()\n",
    "    for i in range(len(cleanedList)):\n",
    "        if (cleanedList[i][0] == ele2[3]):\n",
    "            removal = cleanedList[i][len(cleanedList[i])- int(ele2[1]):]\n",
    "            cleanedList[i] = cleanedList[i][:len(cleanedList[i])- int(ele2[1]) or None]\n",
    "            for j in range(len(cleanedList)):\n",
    "                if (cleanedList[j][0] == ele2[5]):\n",
    "                    cleanedList[j].extend(removal)"
   ]
  },
  {
   "cell_type": "code",
   "execution_count": 8,
   "id": "c905e320",
   "metadata": {},
   "outputs": [
    {
     "data": {
      "text/plain": [
       "[['1', 'S', 'D', 'M', 'H', 'R', 'T', 'J', 'T', 'B', 'Q', 'C'],\n",
       " ['2', 'B', 'P', 'T', 'N', 'C', 'Z', 'D'],\n",
       " ['3', 'S', 'R', 'H', 'R', 'W', 'T'],\n",
       " ['4', 'Q'],\n",
       " ['5', 'F', 'Z', 'Z'],\n",
       " ['6', 'H'],\n",
       " ['7', 'G', 'B'],\n",
       " ['8',\n",
       "  'G',\n",
       "  'G',\n",
       "  'B',\n",
       "  'L',\n",
       "  'H',\n",
       "  'C',\n",
       "  'J',\n",
       "  'C',\n",
       "  'P',\n",
       "  'J',\n",
       "  'D',\n",
       "  'L',\n",
       "  'H',\n",
       "  'R',\n",
       "  'L',\n",
       "  'S',\n",
       "  'V',\n",
       "  'F',\n",
       "  'H',\n",
       "  'J',\n",
       "  'P',\n",
       "  'F',\n",
       "  'R',\n",
       "  'R'],\n",
       " ['9', 'S']]"
      ]
     },
     "execution_count": 8,
     "metadata": {},
     "output_type": "execute_result"
    }
   ],
   "source": [
    "cleanedList"
   ]
  }
 ],
 "metadata": {
  "kernelspec": {
   "display_name": "Python 3 (ipykernel)",
   "language": "python",
   "name": "python3"
  },
  "language_info": {
   "codemirror_mode": {
    "name": "ipython",
    "version": 3
   },
   "file_extension": ".py",
   "mimetype": "text/x-python",
   "name": "python",
   "nbconvert_exporter": "python",
   "pygments_lexer": "ipython3",
   "version": "3.10.2"
  }
 },
 "nbformat": 4,
 "nbformat_minor": 5
}
